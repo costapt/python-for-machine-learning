{
 "cells": [
  {
   "cell_type": "markdown",
   "metadata": {},
   "source": [
    "# Python\n",
    "\n",
    "Python is a **general** purpose language. It is a very dynamic and flexible language.\n",
    "\n",
    "* you can do everything from web programming to machine learning entirely in Python\n",
    "* Python is a modern language, featuring object-oriented programming, many features from functional programming, all in an easily to use dynamically-typed environment\n",
    "\n",
    "------------------------\n",
    "\n",
    "Defining a function:"
   ]
  },
  {
   "cell_type": "code",
   "execution_count": null,
   "metadata": {
    "collapsed": true
   },
   "outputs": [],
   "source": [
    "def is_prime(n):\n",
    "    for m in range(2, n):\n",
    "        if n % m == 0:\n",
    "            return False\n",
    "    return True"
   ]
  },
  {
   "cell_type": "markdown",
   "metadata": {},
   "source": [
    "Quick commands to work on lists:"
   ]
  },
  {
   "cell_type": "code",
   "execution_count": null,
   "metadata": {
    "collapsed": false
   },
   "outputs": [],
   "source": [
    "l = [1, 2, 3]\n",
    "l += [4]\n",
    "print(l)"
   ]
  },
  {
   "cell_type": "markdown",
   "metadata": {},
   "source": [
    "## Exercise 1\n",
    "\n",
    "Using the previous function `is_prime()`, create a list of the first 20 prime numbers."
   ]
  },
  {
   "cell_type": "code",
   "execution_count": null,
   "metadata": {
    "collapsed": true
   },
   "outputs": [],
   "source": []
  },
  {
   "cell_type": "markdown",
   "metadata": {},
   "source": [
    "------------------\n",
    "\n",
    "# Python for Scientific Computing\n",
    "\n",
    "Python is **NOT** a language whose aim is scientific computing.\n",
    "\n",
    "That being said...\n",
    "\n",
    "<img src=\"img/01-stats.png\" />\n",
    "\n",
    "> http://blog.udacity.com/2016/04/languages-and-libraries-for-machine-learning.html\n",
    "\n",
    "Next to R, it is the most widely deployed language in machine learning, and it is rapidly growing.\n",
    "\n",
    "Python is a **general** purpose language. It is a very dynamic and flexible language.\n",
    "\n",
    "* you can do everything from web programming to machine learning entirely in Python\n",
    "* Python is a modern language, featuring object-oriented programming, many features from functional programming, all in an easily to use dynamically-typed environment\n",
    "\n",
    "We are going to use Python together with the following packages:\n",
    "\n",
    "* **numpy** for basic linear algebra support\n",
    "* **skimage** for some basic image manipulation\n",
    "* **matplotlib** to display graphics\n",
    "* **sklearn** for the actual machine learning\n",
    "\n",
    "--------------------------\n",
    "\n",
    "## Exercise 2\n",
    "\n",
    "Modify the following image to show a black rectangle instead of the woman's face."
   ]
  },
  {
   "cell_type": "code",
   "execution_count": null,
   "metadata": {
    "collapsed": true
   },
   "outputs": [],
   "source": [
    "%matplotlib inline  \n",
    "import matplotlib.pyplot as plt\n",
    "import skimage.data\n",
    "\n",
    "img = skimage.data.astronaut()\n",
    "#print(img.shape)\n",
    "#print(img[0, 0, 1])  # pixel (0,0) from Green channel\n",
    "plt.imshow(img)"
   ]
  },
  {
   "cell_type": "markdown",
   "metadata": {},
   "source": [
    "-----------------------------\n",
    "\n",
    "*matplotlib* is the package to draw charts and other statistical graphics.\n",
    "\n",
    "For instance, let us draw a histogram of colors:"
   ]
  },
  {
   "cell_type": "code",
   "execution_count": null,
   "metadata": {
    "collapsed": true
   },
   "outputs": [],
   "source": [
    "R = img[:, :, 0]\n",
    "G = img[:, :, 1]\n",
    "B = img[:, :, 2]\n",
    "\n",
    "plt.hist(R.ravel(), color='red', normed=True)\n",
    "plt.show()\n",
    "\n",
    "plt.hist(G.ravel(), color='green', normed=True)\n",
    "plt.show()\n",
    "\n",
    "plt.hist(B.ravel(), color='blue', normed=True)\n",
    "plt.show()"
   ]
  },
  {
   "cell_type": "markdown",
   "metadata": {},
   "source": [
    "## Exercise 3\n",
    "\n",
    "Increase the intensity of <font color='red'><b>RED</b></font> in the image.\n",
    "\n",
    "Verify that you have done that by:\n",
    "* drawing the image\n",
    "* drawing the red histogram"
   ]
  },
  {
   "cell_type": "code",
   "execution_count": null,
   "metadata": {
    "collapsed": true
   },
   "outputs": [],
   "source": []
  },
  {
   "cell_type": "markdown",
   "metadata": {},
   "source": [
    "---------------------------------------\n",
    "\n",
    "## Linear Algebra\n",
    "\n",
    "* Why are graphics cards so important today?\n",
    "\n",
    "The secret weapon behind scentific computing is linear algebra. \n",
    "\n",
    "Machine learning uses linear algebra for fast computations. You cannot know neural networks without knowing linear algebra."
   ]
  },
  {
   "cell_type": "code",
   "execution_count": null,
   "metadata": {
    "collapsed": true
   },
   "outputs": [],
   "source": [
    "import numpy as np\n",
    "print(np.identity(3, dtype=np.uint8))"
   ]
  },
  {
   "cell_type": "markdown",
   "metadata": {},
   "source": [
    "**Identity Matrix**\n",
    "\n",
    "$\\begin{pmatrix}1 & 2 \\\\ 3 & 4\\end{pmatrix} \\times \\begin{pmatrix}1 & 0 \\\\ 0 & 1\\end{pmatrix} = \\begin{pmatrix}1 & 2 \\\\ 3 & 4\\end{pmatrix}$"
   ]
  },
  {
   "cell_type": "code",
   "execution_count": null,
   "metadata": {
    "collapsed": true
   },
   "outputs": [],
   "source": [
    "I = np.identity(512, dtype=np.uint8)\n",
    "R = img[:, :, 0].dot(I)\n",
    "G = img[:, :, 1].dot(I)\n",
    "B = img[:, :, 2].dot(I)\n",
    "plt.imshow(np.dstack([R, G, B]))"
   ]
  },
  {
   "cell_type": "markdown",
   "metadata": {},
   "source": [
    "Using linear algebra to double **2x** the width of the previous image.\n",
    "\n",
    "i.e. convert the image from (512,512) to (1024,512)\n",
    "\n",
    "We need a matrix of the following type:\n",
    "$\\begin{pmatrix}1 & 2 \\\\ 3 & 4\\end{pmatrix} \\times \\begin{pmatrix}1 & 1 & 0 & 0 \\\\ 0 & 0 & 1 & 1\\end{pmatrix} = \\begin{pmatrix}1 & 1 & 2 & 2 \\\\ 3 & 3 & 4 & 4\\end{pmatrix}$"
   ]
  },
  {
   "cell_type": "code",
   "execution_count": null,
   "metadata": {
    "collapsed": true
   },
   "outputs": [],
   "source": [
    "I = [[1 if j*2-1 < i < (j+1)*2 else 0 for i in range(1024)] for j in range(512)]\n",
    "R = img[:, :, 0].dot(I)\n",
    "G = img[:, :, 1].dot(I)\n",
    "B = img[:, :, 2].dot(I)\n",
    "plt.imshow(np.dstack((R, G, B)).astype(np.uint8))"
   ]
  },
  {
   "cell_type": "markdown",
   "metadata": {},
   "source": [
    "## Exercise 4\n",
    "\n",
    "Create a copy matrix of the following type:\n",
    "\n",
    "**Copy Matrix**\n",
    "\n",
    "$\\begin{pmatrix}1 & 2 \\\\ 3 & 4\\end{pmatrix} \\times \\begin{pmatrix}1 & 0 & 1 & 0 \\\\ 0 & 1 & 0 & 1\\end{pmatrix} = \\begin{pmatrix}1 & 2 & 1 & 2 \\\\ 3 & 4 & 3 & 4\\end{pmatrix}$\n",
    "\n",
    "**Hint:** use [`np.concatenate`](http://docs.scipy.org/doc/numpy/reference/generated/numpy.concatenate.html) to merge two identity matrices."
   ]
  },
  {
   "cell_type": "code",
   "execution_count": null,
   "metadata": {
    "collapsed": true
   },
   "outputs": [],
   "source": []
  }
 ],
 "metadata": {
  "kernelspec": {
   "display_name": "Python 3",
   "language": "python",
   "name": "python3"
  },
  "language_info": {
   "codemirror_mode": {
    "name": "ipython",
    "version": 3
   },
   "file_extension": ".py",
   "mimetype": "text/x-python",
   "name": "python",
   "nbconvert_exporter": "python",
   "pygments_lexer": "ipython3",
   "version": "3.5.2"
  }
 },
 "nbformat": 4,
 "nbformat_minor": 1
}
